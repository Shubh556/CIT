{
 "cells": [
  {
   "cell_type": "code",
   "execution_count": 1,
   "id": "initial_id",
   "metadata": {
    "collapsed": true,
    "ExecuteTime": {
     "end_time": "2023-08-12T14:01:10.759866200Z",
     "start_time": "2023-08-12T14:01:03.042570800Z"
    }
   },
   "outputs": [],
   "source": [
    "import  pandas as pd "
   ]
  },
  {
   "cell_type": "code",
   "execution_count": 2,
   "outputs": [
    {
     "data": {
      "text/plain": "       customer_id trans_date  tran_amount\n0           CS5295  11-Feb-13           35\n1           CS4768  15-Mar-15           39\n2           CS2122  26-Feb-13           52\n3           CS1217  16-Nov-11           99\n4           CS1850  20-Nov-13           78\n...            ...        ...          ...\n124995      CS8433  26-Jun-11           64\n124996      CS7232  19-Aug-14           38\n124997      CS8731  28-Nov-14           42\n124998      CS8133  14-Dec-13           13\n124999      CS7996  13-Dec-14           36\n\n[125000 rows x 3 columns]",
      "text/html": "<div>\n<style scoped>\n    .dataframe tbody tr th:only-of-type {\n        vertical-align: middle;\n    }\n\n    .dataframe tbody tr th {\n        vertical-align: top;\n    }\n\n    .dataframe thead th {\n        text-align: right;\n    }\n</style>\n<table border=\"1\" class=\"dataframe\">\n  <thead>\n    <tr style=\"text-align: right;\">\n      <th></th>\n      <th>customer_id</th>\n      <th>trans_date</th>\n      <th>tran_amount</th>\n    </tr>\n  </thead>\n  <tbody>\n    <tr>\n      <th>0</th>\n      <td>CS5295</td>\n      <td>11-Feb-13</td>\n      <td>35</td>\n    </tr>\n    <tr>\n      <th>1</th>\n      <td>CS4768</td>\n      <td>15-Mar-15</td>\n      <td>39</td>\n    </tr>\n    <tr>\n      <th>2</th>\n      <td>CS2122</td>\n      <td>26-Feb-13</td>\n      <td>52</td>\n    </tr>\n    <tr>\n      <th>3</th>\n      <td>CS1217</td>\n      <td>16-Nov-11</td>\n      <td>99</td>\n    </tr>\n    <tr>\n      <th>4</th>\n      <td>CS1850</td>\n      <td>20-Nov-13</td>\n      <td>78</td>\n    </tr>\n    <tr>\n      <th>...</th>\n      <td>...</td>\n      <td>...</td>\n      <td>...</td>\n    </tr>\n    <tr>\n      <th>124995</th>\n      <td>CS8433</td>\n      <td>26-Jun-11</td>\n      <td>64</td>\n    </tr>\n    <tr>\n      <th>124996</th>\n      <td>CS7232</td>\n      <td>19-Aug-14</td>\n      <td>38</td>\n    </tr>\n    <tr>\n      <th>124997</th>\n      <td>CS8731</td>\n      <td>28-Nov-14</td>\n      <td>42</td>\n    </tr>\n    <tr>\n      <th>124998</th>\n      <td>CS8133</td>\n      <td>14-Dec-13</td>\n      <td>13</td>\n    </tr>\n    <tr>\n      <th>124999</th>\n      <td>CS7996</td>\n      <td>13-Dec-14</td>\n      <td>36</td>\n    </tr>\n  </tbody>\n</table>\n<p>125000 rows × 3 columns</p>\n</div>"
     },
     "execution_count": 2,
     "metadata": {},
     "output_type": "execute_result"
    }
   ],
   "source": [
    "trans=pd.read_csv(\"Retail_Data_Transactions.csv\")\n",
    "trans"
   ],
   "metadata": {
    "collapsed": false,
    "ExecuteTime": {
     "end_time": "2023-08-12T14:02:09.010094100Z",
     "start_time": "2023-08-12T14:02:08.912406600Z"
    }
   },
   "id": "a7c35e54a56e5813"
  },
  {
   "cell_type": "code",
   "execution_count": 3,
   "outputs": [
    {
     "data": {
      "text/plain": "     customer_id  response\n0         CS1112         0\n1         CS1113         0\n2         CS1114         1\n3         CS1115         1\n4         CS1116         1\n...          ...       ...\n6879      CS8996         0\n6880      CS8997         0\n6881      CS8998         0\n6882      CS8999         0\n6883      CS9000         0\n\n[6884 rows x 2 columns]",
      "text/html": "<div>\n<style scoped>\n    .dataframe tbody tr th:only-of-type {\n        vertical-align: middle;\n    }\n\n    .dataframe tbody tr th {\n        vertical-align: top;\n    }\n\n    .dataframe thead th {\n        text-align: right;\n    }\n</style>\n<table border=\"1\" class=\"dataframe\">\n  <thead>\n    <tr style=\"text-align: right;\">\n      <th></th>\n      <th>customer_id</th>\n      <th>response</th>\n    </tr>\n  </thead>\n  <tbody>\n    <tr>\n      <th>0</th>\n      <td>CS1112</td>\n      <td>0</td>\n    </tr>\n    <tr>\n      <th>1</th>\n      <td>CS1113</td>\n      <td>0</td>\n    </tr>\n    <tr>\n      <th>2</th>\n      <td>CS1114</td>\n      <td>1</td>\n    </tr>\n    <tr>\n      <th>3</th>\n      <td>CS1115</td>\n      <td>1</td>\n    </tr>\n    <tr>\n      <th>4</th>\n      <td>CS1116</td>\n      <td>1</td>\n    </tr>\n    <tr>\n      <th>...</th>\n      <td>...</td>\n      <td>...</td>\n    </tr>\n    <tr>\n      <th>6879</th>\n      <td>CS8996</td>\n      <td>0</td>\n    </tr>\n    <tr>\n      <th>6880</th>\n      <td>CS8997</td>\n      <td>0</td>\n    </tr>\n    <tr>\n      <th>6881</th>\n      <td>CS8998</td>\n      <td>0</td>\n    </tr>\n    <tr>\n      <th>6882</th>\n      <td>CS8999</td>\n      <td>0</td>\n    </tr>\n    <tr>\n      <th>6883</th>\n      <td>CS9000</td>\n      <td>0</td>\n    </tr>\n  </tbody>\n</table>\n<p>6884 rows × 2 columns</p>\n</div>"
     },
     "execution_count": 3,
     "metadata": {},
     "output_type": "execute_result"
    }
   ],
   "source": [
    "res=pd.read_csv(\"Retail_Data_Response.csv\")\n",
    "res"
   ],
   "metadata": {
    "collapsed": false,
    "ExecuteTime": {
     "end_time": "2023-08-12T14:04:51.444119400Z",
     "start_time": "2023-08-12T14:04:51.424906900Z"
    }
   },
   "id": "79ac82795b9df7c8"
  },
  {
   "cell_type": "code",
   "execution_count": 22,
   "outputs": [
    {
     "data": {
      "text/plain": "       customer_id  response trans_date  tran_amount\n0           CS1112         0  14-Jan-15           39\n1           CS1112         0  16-Jul-14           90\n2           CS1112         0  29-Apr-14           63\n3           CS1112         0  04-Dec-14           59\n4           CS1112         0  08-Apr-12           56\n...            ...       ...        ...          ...\n124964      CS9000         0  12-May-12           53\n124965      CS9000         0  08-May-14           20\n124966      CS9000         0  28-Feb-15           34\n124967      CS9000         0  01-Jun-12           37\n124968      CS9000         0  11-Dec-12           49\n\n[124969 rows x 4 columns]",
      "text/html": "<div>\n<style scoped>\n    .dataframe tbody tr th:only-of-type {\n        vertical-align: middle;\n    }\n\n    .dataframe tbody tr th {\n        vertical-align: top;\n    }\n\n    .dataframe thead th {\n        text-align: right;\n    }\n</style>\n<table border=\"1\" class=\"dataframe\">\n  <thead>\n    <tr style=\"text-align: right;\">\n      <th></th>\n      <th>customer_id</th>\n      <th>response</th>\n      <th>trans_date</th>\n      <th>tran_amount</th>\n    </tr>\n  </thead>\n  <tbody>\n    <tr>\n      <th>0</th>\n      <td>CS1112</td>\n      <td>0</td>\n      <td>14-Jan-15</td>\n      <td>39</td>\n    </tr>\n    <tr>\n      <th>1</th>\n      <td>CS1112</td>\n      <td>0</td>\n      <td>16-Jul-14</td>\n      <td>90</td>\n    </tr>\n    <tr>\n      <th>2</th>\n      <td>CS1112</td>\n      <td>0</td>\n      <td>29-Apr-14</td>\n      <td>63</td>\n    </tr>\n    <tr>\n      <th>3</th>\n      <td>CS1112</td>\n      <td>0</td>\n      <td>04-Dec-14</td>\n      <td>59</td>\n    </tr>\n    <tr>\n      <th>4</th>\n      <td>CS1112</td>\n      <td>0</td>\n      <td>08-Apr-12</td>\n      <td>56</td>\n    </tr>\n    <tr>\n      <th>...</th>\n      <td>...</td>\n      <td>...</td>\n      <td>...</td>\n      <td>...</td>\n    </tr>\n    <tr>\n      <th>124964</th>\n      <td>CS9000</td>\n      <td>0</td>\n      <td>12-May-12</td>\n      <td>53</td>\n    </tr>\n    <tr>\n      <th>124965</th>\n      <td>CS9000</td>\n      <td>0</td>\n      <td>08-May-14</td>\n      <td>20</td>\n    </tr>\n    <tr>\n      <th>124966</th>\n      <td>CS9000</td>\n      <td>0</td>\n      <td>28-Feb-15</td>\n      <td>34</td>\n    </tr>\n    <tr>\n      <th>124967</th>\n      <td>CS9000</td>\n      <td>0</td>\n      <td>01-Jun-12</td>\n      <td>37</td>\n    </tr>\n    <tr>\n      <th>124968</th>\n      <td>CS9000</td>\n      <td>0</td>\n      <td>11-Dec-12</td>\n      <td>49</td>\n    </tr>\n  </tbody>\n</table>\n<p>124969 rows × 4 columns</p>\n</div>"
     },
     "execution_count": 22,
     "metadata": {},
     "output_type": "execute_result"
    }
   ],
   "source": [
    "df=pd.merge(res,trans,on=\"customer_id\",how=\"left\")\n",
    "df"
   ],
   "metadata": {
    "collapsed": false,
    "ExecuteTime": {
     "end_time": "2023-08-12T14:22:05.154871700Z",
     "start_time": "2023-08-12T14:22:05.108681300Z"
    }
   },
   "id": "5bd4e0a68d7b3138"
  },
  {
   "cell_type": "code",
   "execution_count": 31,
   "outputs": [
    {
     "data": {
      "text/plain": "customer_id    object\nresponse        int64\ntrans_date     object\ntran_amount     int64\ndtype: object"
     },
     "execution_count": 31,
     "metadata": {},
     "output_type": "execute_result"
    }
   ],
   "source": [
    "df.dtypes"
   ],
   "metadata": {
    "collapsed": false,
    "ExecuteTime": {
     "end_time": "2023-08-12T14:25:38.755475700Z",
     "start_time": "2023-08-12T14:25:38.744380900Z"
    }
   },
   "id": "91c97628e06ddc89"
  },
  {
   "cell_type": "code",
   "execution_count": 32,
   "outputs": [
    {
     "data": {
      "text/plain": "(124969, 4)"
     },
     "execution_count": 32,
     "metadata": {},
     "output_type": "execute_result"
    }
   ],
   "source": [
    "df.shape"
   ],
   "metadata": {
    "collapsed": false,
    "ExecuteTime": {
     "end_time": "2023-08-12T14:25:40.024273900Z",
     "start_time": "2023-08-12T14:25:40.010858200Z"
    }
   },
   "id": "d0a4356567a7b1a7"
  },
  {
   "cell_type": "code",
   "execution_count": 33,
   "outputs": [
    {
     "data": {
      "text/plain": "  customer_id  response trans_date  tran_amount\n0      CS1112         0  14-Jan-15           39\n1      CS1112         0  16-Jul-14           90\n2      CS1112         0  29-Apr-14           63\n3      CS1112         0  04-Dec-14           59\n4      CS1112         0  08-Apr-12           56\n5      CS1112         0  15-Dec-12           76\n6      CS1112         0  01-Jul-13           36\n7      CS1112         0  03-Jul-12           81\n8      CS1112         0  02-Oct-11           60\n9      CS1112         0  13-Nov-13           71",
      "text/html": "<div>\n<style scoped>\n    .dataframe tbody tr th:only-of-type {\n        vertical-align: middle;\n    }\n\n    .dataframe tbody tr th {\n        vertical-align: top;\n    }\n\n    .dataframe thead th {\n        text-align: right;\n    }\n</style>\n<table border=\"1\" class=\"dataframe\">\n  <thead>\n    <tr style=\"text-align: right;\">\n      <th></th>\n      <th>customer_id</th>\n      <th>response</th>\n      <th>trans_date</th>\n      <th>tran_amount</th>\n    </tr>\n  </thead>\n  <tbody>\n    <tr>\n      <th>0</th>\n      <td>CS1112</td>\n      <td>0</td>\n      <td>14-Jan-15</td>\n      <td>39</td>\n    </tr>\n    <tr>\n      <th>1</th>\n      <td>CS1112</td>\n      <td>0</td>\n      <td>16-Jul-14</td>\n      <td>90</td>\n    </tr>\n    <tr>\n      <th>2</th>\n      <td>CS1112</td>\n      <td>0</td>\n      <td>29-Apr-14</td>\n      <td>63</td>\n    </tr>\n    <tr>\n      <th>3</th>\n      <td>CS1112</td>\n      <td>0</td>\n      <td>04-Dec-14</td>\n      <td>59</td>\n    </tr>\n    <tr>\n      <th>4</th>\n      <td>CS1112</td>\n      <td>0</td>\n      <td>08-Apr-12</td>\n      <td>56</td>\n    </tr>\n    <tr>\n      <th>5</th>\n      <td>CS1112</td>\n      <td>0</td>\n      <td>15-Dec-12</td>\n      <td>76</td>\n    </tr>\n    <tr>\n      <th>6</th>\n      <td>CS1112</td>\n      <td>0</td>\n      <td>01-Jul-13</td>\n      <td>36</td>\n    </tr>\n    <tr>\n      <th>7</th>\n      <td>CS1112</td>\n      <td>0</td>\n      <td>03-Jul-12</td>\n      <td>81</td>\n    </tr>\n    <tr>\n      <th>8</th>\n      <td>CS1112</td>\n      <td>0</td>\n      <td>02-Oct-11</td>\n      <td>60</td>\n    </tr>\n    <tr>\n      <th>9</th>\n      <td>CS1112</td>\n      <td>0</td>\n      <td>13-Nov-13</td>\n      <td>71</td>\n    </tr>\n  </tbody>\n</table>\n</div>"
     },
     "execution_count": 33,
     "metadata": {},
     "output_type": "execute_result"
    }
   ],
   "source": [
    "df.head(10)"
   ],
   "metadata": {
    "collapsed": false,
    "ExecuteTime": {
     "end_time": "2023-08-12T14:25:41.134557500Z",
     "start_time": "2023-08-12T14:25:41.099744300Z"
    }
   },
   "id": "6a274af154efe803"
  },
  {
   "cell_type": "code",
   "execution_count": 34,
   "outputs": [
    {
     "data": {
      "text/plain": "       customer_id  response trans_date  tran_amount\n124959      CS9000         0  08-Jul-14           26\n124960      CS9000         0  23-Oct-11           23\n124961      CS9000         0  04-Sep-11           16\n124962      CS9000         0  23-May-12           77\n124963      CS9000         0  01-Oct-13           71\n124964      CS9000         0  12-May-12           53\n124965      CS9000         0  08-May-14           20\n124966      CS9000         0  28-Feb-15           34\n124967      CS9000         0  01-Jun-12           37\n124968      CS9000         0  11-Dec-12           49",
      "text/html": "<div>\n<style scoped>\n    .dataframe tbody tr th:only-of-type {\n        vertical-align: middle;\n    }\n\n    .dataframe tbody tr th {\n        vertical-align: top;\n    }\n\n    .dataframe thead th {\n        text-align: right;\n    }\n</style>\n<table border=\"1\" class=\"dataframe\">\n  <thead>\n    <tr style=\"text-align: right;\">\n      <th></th>\n      <th>customer_id</th>\n      <th>response</th>\n      <th>trans_date</th>\n      <th>tran_amount</th>\n    </tr>\n  </thead>\n  <tbody>\n    <tr>\n      <th>124959</th>\n      <td>CS9000</td>\n      <td>0</td>\n      <td>08-Jul-14</td>\n      <td>26</td>\n    </tr>\n    <tr>\n      <th>124960</th>\n      <td>CS9000</td>\n      <td>0</td>\n      <td>23-Oct-11</td>\n      <td>23</td>\n    </tr>\n    <tr>\n      <th>124961</th>\n      <td>CS9000</td>\n      <td>0</td>\n      <td>04-Sep-11</td>\n      <td>16</td>\n    </tr>\n    <tr>\n      <th>124962</th>\n      <td>CS9000</td>\n      <td>0</td>\n      <td>23-May-12</td>\n      <td>77</td>\n    </tr>\n    <tr>\n      <th>124963</th>\n      <td>CS9000</td>\n      <td>0</td>\n      <td>01-Oct-13</td>\n      <td>71</td>\n    </tr>\n    <tr>\n      <th>124964</th>\n      <td>CS9000</td>\n      <td>0</td>\n      <td>12-May-12</td>\n      <td>53</td>\n    </tr>\n    <tr>\n      <th>124965</th>\n      <td>CS9000</td>\n      <td>0</td>\n      <td>08-May-14</td>\n      <td>20</td>\n    </tr>\n    <tr>\n      <th>124966</th>\n      <td>CS9000</td>\n      <td>0</td>\n      <td>28-Feb-15</td>\n      <td>34</td>\n    </tr>\n    <tr>\n      <th>124967</th>\n      <td>CS9000</td>\n      <td>0</td>\n      <td>01-Jun-12</td>\n      <td>37</td>\n    </tr>\n    <tr>\n      <th>124968</th>\n      <td>CS9000</td>\n      <td>0</td>\n      <td>11-Dec-12</td>\n      <td>49</td>\n    </tr>\n  </tbody>\n</table>\n</div>"
     },
     "execution_count": 34,
     "metadata": {},
     "output_type": "execute_result"
    }
   ],
   "source": [
    "df.tail(10)"
   ],
   "metadata": {
    "collapsed": false,
    "ExecuteTime": {
     "end_time": "2023-08-12T14:25:42.827040100Z",
     "start_time": "2023-08-12T14:25:42.816384400Z"
    }
   },
   "id": "3a7a9671a365b3b6"
  },
  {
   "cell_type": "code",
   "execution_count": 35,
   "outputs": [
    {
     "data": {
      "text/plain": "            response    tran_amount\ncount  124969.000000  124969.000000\nmean        0.110763      64.995143\nstd         0.313840      22.860059\nmin         0.000000      10.000000\n25%         0.000000      47.000000\n50%         0.000000      65.000000\n75%         0.000000      83.000000\nmax         1.000000     105.000000",
      "text/html": "<div>\n<style scoped>\n    .dataframe tbody tr th:only-of-type {\n        vertical-align: middle;\n    }\n\n    .dataframe tbody tr th {\n        vertical-align: top;\n    }\n\n    .dataframe thead th {\n        text-align: right;\n    }\n</style>\n<table border=\"1\" class=\"dataframe\">\n  <thead>\n    <tr style=\"text-align: right;\">\n      <th></th>\n      <th>response</th>\n      <th>tran_amount</th>\n    </tr>\n  </thead>\n  <tbody>\n    <tr>\n      <th>count</th>\n      <td>124969.000000</td>\n      <td>124969.000000</td>\n    </tr>\n    <tr>\n      <th>mean</th>\n      <td>0.110763</td>\n      <td>64.995143</td>\n    </tr>\n    <tr>\n      <th>std</th>\n      <td>0.313840</td>\n      <td>22.860059</td>\n    </tr>\n    <tr>\n      <th>min</th>\n      <td>0.000000</td>\n      <td>10.000000</td>\n    </tr>\n    <tr>\n      <th>25%</th>\n      <td>0.000000</td>\n      <td>47.000000</td>\n    </tr>\n    <tr>\n      <th>50%</th>\n      <td>0.000000</td>\n      <td>65.000000</td>\n    </tr>\n    <tr>\n      <th>75%</th>\n      <td>0.000000</td>\n      <td>83.000000</td>\n    </tr>\n    <tr>\n      <th>max</th>\n      <td>1.000000</td>\n      <td>105.000000</td>\n    </tr>\n  </tbody>\n</table>\n</div>"
     },
     "execution_count": 35,
     "metadata": {},
     "output_type": "execute_result"
    }
   ],
   "source": [
    "df.describe()"
   ],
   "metadata": {
    "collapsed": false,
    "ExecuteTime": {
     "end_time": "2023-08-12T14:25:44.832945Z",
     "start_time": "2023-08-12T14:25:44.807798300Z"
    }
   },
   "id": "de7bd78d66d7fe62"
  },
  {
   "cell_type": "code",
   "execution_count": 36,
   "outputs": [
    {
     "data": {
      "text/plain": "customer_id    0\nresponse       0\ntrans_date     0\ntran_amount    0\ndtype: int64"
     },
     "execution_count": 36,
     "metadata": {},
     "output_type": "execute_result"
    }
   ],
   "source": [
    "df.isnull().sum()"
   ],
   "metadata": {
    "collapsed": false,
    "ExecuteTime": {
     "end_time": "2023-08-12T14:25:46.821465900Z",
     "start_time": "2023-08-12T14:25:46.802453300Z"
    }
   },
   "id": "b0c0c7c186be3f14"
  },
  {
   "cell_type": "code",
   "execution_count": 43,
   "outputs": [],
   "source": [
    "import seaborn as sns"
   ],
   "metadata": {
    "collapsed": false,
    "ExecuteTime": {
     "end_time": "2023-08-12T14:30:43.659836700Z",
     "start_time": "2023-08-12T14:29:57.016935500Z"
    }
   },
   "id": "d844dd0d16e6ed37"
  },
  {
   "cell_type": "code",
   "execution_count": 68,
   "outputs": [
    {
     "data": {
      "text/plain": "<Axes: >"
     },
     "execution_count": 68,
     "metadata": {},
     "output_type": "execute_result"
    },
    {
     "data": {
      "text/plain": "<Figure size 640x480 with 1 Axes>",
      "image/png": "[encoded data removed]"
     },
     "metadata": {},
     "output_type": "display_data"
    }
   ],
   "source": [
    "sns.boxplot(df[\"tran_amount\"])"
   ],
   "metadata": {
    "collapsed": false,
    "ExecuteTime": {
     "end_time": "2023-08-12T14:58:47.219080100Z",
     "start_time": "2023-08-12T14:58:47.108810300Z"
    }
   },
   "id": "94d20e0fb88059cd"
  },
  {
   "cell_type": "code",
   "execution_count": 98,
   "outputs": [
    {
     "data": {
      "text/plain": "       customer_id  response trans_date  tran_amount  month\n0           CS1112         0 2015-01-14           39      1\n1           CS1112         0 2014-07-16           90      7\n2           CS1112         0 2014-04-29           63      4\n3           CS1112         0 2014-12-04           59     12\n4           CS1112         0 2012-04-08           56      4\n...            ...       ...        ...          ...    ...\n124964      CS9000         0 2012-05-12           53      5\n124965      CS9000         0 2014-05-08           20      5\n124966      CS9000         0 2015-02-28           34      2\n124967      CS9000         0 2012-06-01           37      6\n124968      CS9000         0 2012-12-11           49     12\n\n[124969 rows x 5 columns]",
      "text/html": "<div>\n<style scoped>\n    .dataframe tbody tr th:only-of-type {\n        vertical-align: middle;\n    }\n\n    .dataframe tbody tr th {\n        vertical-align: top;\n    }\n\n    .dataframe thead th {\n        text-align: right;\n    }\n</style>\n<table border=\"1\" class=\"dataframe\">\n  <thead>\n    <tr style=\"text-align: right;\">\n      <th></th>\n      <th>customer_id</th>\n      <th>response</th>\n      <th>trans_date</th>\n      <th>tran_amount</th>\n      <th>month</th>\n    </tr>\n  </thead>\n  <tbody>\n    <tr>\n      <th>0</th>\n      <td>CS1112</td>\n      <td>0</td>\n      <td>2015-01-14</td>\n      <td>39</td>\n      <td>1</td>\n    </tr>\n    <tr>\n      <th>1</th>\n      <td>CS1112</td>\n      <td>0</td>\n      <td>2014-07-16</td>\n      <td>90</td>\n      <td>7</td>\n    </tr>\n    <tr>\n      <th>2</th>\n      <td>CS1112</td>\n      <td>0</td>\n      <td>2014-04-29</td>\n      <td>63</td>\n      <td>4</td>\n    </tr>\n    <tr>\n      <th>3</th>\n      <td>CS1112</td>\n      <td>0</td>\n      <td>2014-12-04</td>\n      <td>59</td>\n      <td>12</td>\n    </tr>\n    <tr>\n      <th>4</th>\n      <td>CS1112</td>\n      <td>0</td>\n      <td>2012-04-08</td>\n      <td>56</td>\n      <td>4</td>\n    </tr>\n    <tr>\n      <th>...</th>\n      <td>...</td>\n      <td>...</td>\n      <td>...</td>\n      <td>...</td>\n      <td>...</td>\n    </tr>\n    <tr>\n      <th>124964</th>\n      <td>CS9000</td>\n      <td>0</td>\n      <td>2012-05-12</td>\n      <td>53</td>\n      <td>5</td>\n    </tr>\n    <tr>\n      <th>124965</th>\n      <td>CS9000</td>\n      <td>0</td>\n      <td>2014-05-08</td>\n      <td>20</td>\n      <td>5</td>\n    </tr>\n    <tr>\n      <th>124966</th>\n      <td>CS9000</td>\n      <td>0</td>\n      <td>2015-02-28</td>\n      <td>34</td>\n      <td>2</td>\n    </tr>\n    <tr>\n      <th>124967</th>\n      <td>CS9000</td>\n      <td>0</td>\n      <td>2012-06-01</td>\n      <td>37</td>\n      <td>6</td>\n    </tr>\n    <tr>\n      <th>124968</th>\n      <td>CS9000</td>\n      <td>0</td>\n      <td>2012-12-11</td>\n      <td>49</td>\n      <td>12</td>\n    </tr>\n  </tbody>\n</table>\n<p>124969 rows × 5 columns</p>\n</div>"
     },
     "execution_count": 98,
     "metadata": {},
     "output_type": "execute_result"
    }
   ],
   "source": [
    "df['month']=df[\"trans_date\"].dt.month\n",
    "df"
   ],
   "metadata": {
    "collapsed": false,
    "ExecuteTime": {
     "end_time": "2023-08-12T15:23:12.995144600Z",
     "start_time": "2023-08-12T15:23:12.959189400Z"
    }
   },
   "id": "d4b5bbabf5336b25"
  },
  {
   "cell_type": "code",
   "execution_count": 95,
   "outputs": [
    {
     "name": "stderr",
     "output_type": "stream",
     "text": [
      "C:\\Users\\shubh\\AppData\\Local\\Temp\\ipykernel_3640\\1956831075.py:1: UserWarning: Could not infer format, so each element will be parsed individually, falling back to `dateutil`. To ensure parsing is consistent and as-expected, please specify a format.\n",
      "  df[\"trans_date\"]=pd.to_datetime(df[\"trans_date\"])\n"
     ]
    }
   ],
   "source": [
    "df[\"trans_date\"]=pd.to_datetime(df[\"trans_date\"])"
   ],
   "metadata": {
    "collapsed": false,
    "ExecuteTime": {
     "end_time": "2023-08-12T15:22:43.058902300Z",
     "start_time": "2023-08-12T15:22:38.217193900Z"
    }
   },
   "id": "21f0ca59cc555390"
  },
  {
   "cell_type": "code",
   "execution_count": 97,
   "outputs": [
    {
     "data": {
      "text/plain": "customer_id            object\nresponse                int64\ntrans_date     datetime64[ns]\ntran_amount             int64\ndtype: object"
     },
     "execution_count": 97,
     "metadata": {},
     "output_type": "execute_result"
    }
   ],
   "source": [
    "df.dtypes"
   ],
   "metadata": {
    "collapsed": false,
    "ExecuteTime": {
     "end_time": "2023-08-12T15:23:02.577772700Z",
     "start_time": "2023-08-12T15:23:02.560913600Z"
    }
   },
   "id": "a80cf9f406058d1d"
  },
  {
   "cell_type": "code",
   "execution_count": 100,
   "outputs": [
    {
     "data": {
      "text/plain": "   month  tran_amount\n0      8       726775\n1     10       725058\n2      1       724089\n3      7       717011\n4     12       709795\n5     11       698024\n6      6       697014\n7      9       694201\n8      2       645028\n9      3       636475",
      "text/html": "<div>\n<style scoped>\n    .dataframe tbody tr th:only-of-type {\n        vertical-align: middle;\n    }\n\n    .dataframe tbody tr th {\n        vertical-align: top;\n    }\n\n    .dataframe thead th {\n        text-align: right;\n    }\n</style>\n<table border=\"1\" class=\"dataframe\">\n  <thead>\n    <tr style=\"text-align: right;\">\n      <th></th>\n      <th>month</th>\n      <th>tran_amount</th>\n    </tr>\n  </thead>\n  <tbody>\n    <tr>\n      <th>0</th>\n      <td>8</td>\n      <td>726775</td>\n    </tr>\n    <tr>\n      <th>1</th>\n      <td>10</td>\n      <td>725058</td>\n    </tr>\n    <tr>\n      <th>2</th>\n      <td>1</td>\n      <td>724089</td>\n    </tr>\n    <tr>\n      <th>3</th>\n      <td>7</td>\n      <td>717011</td>\n    </tr>\n    <tr>\n      <th>4</th>\n      <td>12</td>\n      <td>709795</td>\n    </tr>\n    <tr>\n      <th>5</th>\n      <td>11</td>\n      <td>698024</td>\n    </tr>\n    <tr>\n      <th>6</th>\n      <td>6</td>\n      <td>697014</td>\n    </tr>\n    <tr>\n      <th>7</th>\n      <td>9</td>\n      <td>694201</td>\n    </tr>\n    <tr>\n      <th>8</th>\n      <td>2</td>\n      <td>645028</td>\n    </tr>\n    <tr>\n      <th>9</th>\n      <td>3</td>\n      <td>636475</td>\n    </tr>\n  </tbody>\n</table>\n</div>"
     },
     "execution_count": 100,
     "metadata": {},
     "output_type": "execute_result"
    }
   ],
   "source": [
    "sales=df.groupby(\"month\")[\"tran_amount\"].sum()\n",
    "sales=sales.sort_values(ascending=False).reset_index().head(10)\n",
    "sales"
   ],
   "metadata": {
    "collapsed": false,
    "ExecuteTime": {
     "end_time": "2023-08-12T15:30:46.664152200Z",
     "start_time": "2023-08-12T15:30:46.646823400Z"
    }
   },
   "id": "6644f9ae0cb1eab7"
  },
  {
   "cell_type": "code",
   "execution_count": 106,
   "outputs": [
    {
     "data": {
      "text/plain": "     customer_id  count\n0         CS4424     39\n1         CS4320     38\n2         CS3799     36\n3         CS3805     35\n4         CS2620     35\n...          ...    ...\n6879      CS7224      4\n6880      CS8559      4\n6881      CS8504      4\n6882      CS7333      4\n6883      CS7716      4\n\n[6884 rows x 2 columns]",
      "text/html": "<div>\n<style scoped>\n    .dataframe tbody tr th:only-of-type {\n        vertical-align: middle;\n    }\n\n    .dataframe tbody tr th {\n        vertical-align: top;\n    }\n\n    .dataframe thead th {\n        text-align: right;\n    }\n</style>\n<table border=\"1\" class=\"dataframe\">\n  <thead>\n    <tr style=\"text-align: right;\">\n      <th></th>\n      <th>customer_id</th>\n      <th>count</th>\n    </tr>\n  </thead>\n  <tbody>\n    <tr>\n      <th>0</th>\n      <td>CS4424</td>\n      <td>39</td>\n    </tr>\n    <tr>\n      <th>1</th>\n      <td>CS4320</td>\n      <td>38</td>\n    </tr>\n    <tr>\n      <th>2</th>\n      <td>CS3799</td>\n      <td>36</td>\n    </tr>\n    <tr>\n      <th>3</th>\n      <td>CS3805</td>\n      <td>35</td>\n    </tr>\n    <tr>\n      <th>4</th>\n      <td>CS2620</td>\n      <td>35</td>\n    </tr>\n    <tr>\n      <th>...</th>\n      <td>...</td>\n      <td>...</td>\n    </tr>\n    <tr>\n      <th>6879</th>\n      <td>CS7224</td>\n      <td>4</td>\n    </tr>\n    <tr>\n      <th>6880</th>\n      <td>CS8559</td>\n      <td>4</td>\n    </tr>\n    <tr>\n      <th>6881</th>\n      <td>CS8504</td>\n      <td>4</td>\n    </tr>\n    <tr>\n      <th>6882</th>\n      <td>CS7333</td>\n      <td>4</td>\n    </tr>\n    <tr>\n      <th>6883</th>\n      <td>CS7716</td>\n      <td>4</td>\n    </tr>\n  </tbody>\n</table>\n<p>6884 rows × 2 columns</p>\n</div>"
     },
     "execution_count": 106,
     "metadata": {},
     "output_type": "execute_result"
    }
   ],
   "source": [
    "counts=df[\"customer_id\"].value_counts().reset_index()\n",
    "counts"
   ],
   "metadata": {
    "collapsed": false,
    "ExecuteTime": {
     "end_time": "2023-08-12T15:38:33.839168500Z",
     "start_time": "2023-08-12T15:38:33.820466800Z"
    }
   },
   "id": "884ab890d083c191"
  }
 ],
 "metadata": {
  "kernelspec": {
   "display_name": "Python 3",
   "language": "python",
   "name": "python3"
  },
  "language_info": {
   "codemirror_mode": {
    "name": "ipython",
    "version": 2
   },
   "file_extension": ".py",
   "mimetype": "text/x-python",
   "name": "python",
   "nbconvert_exporter": "python",
   "pygments_lexer": "ipython2",
   "version": "2.7.6"
  }
 },
 "nbformat": 4,
 "nbformat_minor": 5
}
